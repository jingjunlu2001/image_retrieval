{
 "cells": [
  {
   "cell_type": "code",
   "execution_count": 1,
   "metadata": {
    "colab": {
     "base_uri": "https://localhost:8080/"
    },
    "id": "mgKg1IVkHlrS",
    "outputId": "d676a6ae-b25b-4653-9cf6-175353e2c5b5"
   },
   "outputs": [
    {
     "name": "stdout",
     "output_type": "stream",
     "text": [
      "mkdir: cannot create directory ‘genre_test’: File exists\n",
      "/content/genre_test\n",
      "Error: Command '['/content/genre_test/.venv_genre/bin/python3', '-Im', 'ensurepip', '--upgrade', '--default-pip']' returned non-zero exit status 1.\n",
      "/bin/bash: .venv_genre/bin/activate: No such file or directory\n",
      "Requirement already satisfied: pip in /usr/local/lib/python3.7/dist-packages (21.1.2)\n",
      "\u001b[33mWARNING: Running pip as root will break packages and permissions. You should install packages reliably by using venv: https://pip.pypa.io/warnings/venv\u001b[0m\n",
      "fatal: destination path 'fairseq' already exists and is not an empty directory.\n",
      "/content/genre_test/fairseq\n",
      "Obtaining file:///content/genre_test/fairseq\n",
      "  Installing build dependencies ... \u001b[?25l\u001b[?25hcanceled\n",
      "\u001b[31mERROR: Operation cancelled by user\u001b[0m\n",
      "/content/genre_test\n",
      "Requirement already satisfied: transformers in /usr/local/lib/python3.7/dist-packages (4.8.0)\n",
      "Requirement already satisfied: sacremoses in /usr/local/lib/python3.7/dist-packages (from transformers) (0.0.45)\n",
      "Requirement already satisfied: huggingface-hub==0.0.12 in /usr/local/lib/python3.7/dist-packages (from transformers) (0.0.12)\n",
      "Requirement already satisfied: tokenizers<0.11,>=0.10.1 in /usr/local/lib/python3.7/dist-packages (from transformers) (0.10.3)\n",
      "Requirement already satisfied: numpy>=1.17 in /usr/local/lib/python3.7/dist-packages (from transformers) (1.19.5)\n",
      "Requirement already satisfied: importlib-metadata in /usr/local/lib/python3.7/dist-packages (from transformers) (3.10.1)\n",
      "Requirement already satisfied: filelock in /usr/local/lib/python3.7/dist-packages (from transformers) (3.0.12)\n",
      "Requirement already satisfied: pyyaml in /usr/local/lib/python3.7/dist-packages (from transformers) (5.4.1)\n",
      "Requirement already satisfied: requests in /usr/local/lib/python3.7/dist-packages (from transformers) (2.25.1)\n",
      "Requirement already satisfied: packaging in /usr/local/lib/python3.7/dist-packages (from transformers) (20.9)\n",
      "Requirement already satisfied: regex!=2019.12.17 in /usr/local/lib/python3.7/dist-packages (from transformers) (2019.12.20)\n",
      "Requirement already satisfied: tqdm>=4.27 in /usr/local/lib/python3.7/dist-packages (from transformers) (4.41.1)\n",
      "Requirement already satisfied: typing-extensions in /usr/local/lib/python3.7/dist-packages (from huggingface-hub==0.0.12->transformers) (3.7.4.3)\n",
      "Requirement already satisfied: pyparsing>=2.0.2 in /usr/local/lib/python3.7/dist-packages (from packaging->transformers) (2.4.7)\n",
      "Requirement already satisfied: zipp>=0.5 in /usr/local/lib/python3.7/dist-packages (from importlib-metadata->transformers) (3.4.1)\n",
      "Requirement already satisfied: urllib3<1.27,>=1.21.1 in /usr/local/lib/python3.7/dist-packages (from requests->transformers) (1.24.3)\n",
      "Requirement already satisfied: chardet<5,>=3.0.2 in /usr/local/lib/python3.7/dist-packages (from requests->transformers) (3.0.4)\n",
      "Requirement already satisfied: certifi>=2017.4.17 in /usr/local/lib/python3.7/dist-packages (from requests->transformers) (2021.5.30)\n",
      "Requirement already satisfied: idna<3,>=2.5 in /usr/local/lib/python3.7/dist-packages (from requests->transformers) (2.10)\n",
      "Requirement already satisfied: click in /usr/local/lib/python3.7/dist-packages (from sacremoses->transformers) (7.1.2)\n",
      "Requirement already satisfied: joblib in /usr/local/lib/python3.7/dist-packages (from sacremoses->transformers) (1.0.1)\n",
      "Requirement already satisfied: six in /usr/local/lib/python3.7/dist-packages (from sacremoses->transformers) (1.15.0)\n",
      "\u001b[33mWARNING: Running pip as root will break packages and permissions. You should install packages reliably by using venv: https://pip.pypa.io/warnings/venv\u001b[0m\n",
      "fatal: destination path 'KILT' already exists and is not an empty directory.\n",
      "/content/genre_test/KILT\n",
      "Requirement already satisfied: pymongo in /usr/local/lib/python3.7/dist-packages (from -r requirements.txt (line 1)) (3.11.4)\n",
      "Requirement already satisfied: pytest in /usr/local/lib/python3.7/dist-packages (from -r requirements.txt (line 2)) (3.6.4)\n",
      "Requirement already satisfied: jsonlines in /usr/local/lib/python3.7/dist-packages (from -r requirements.txt (line 3)) (2.0.0)\n",
      "Requirement already satisfied: rouge in /usr/local/lib/python3.7/dist-packages (from -r requirements.txt (line 4)) (1.0.0)\n",
      "Requirement already satisfied: prettytable in /usr/local/lib/python3.7/dist-packages (from -r requirements.txt (line 5)) (2.1.0)\n",
      "Requirement already satisfied: tqdm in /usr/local/lib/python3.7/dist-packages (from -r requirements.txt (line 6)) (4.41.1)\n",
      "Requirement already satisfied: nltk in /usr/local/lib/python3.7/dist-packages (from -r requirements.txt (line 7)) (3.2.5)\n",
      "Requirement already satisfied: torch in /usr/local/lib/python3.7/dist-packages (from -r requirements.txt (line 8)) (1.7.1)\n",
      "Requirement already satisfied: bs4 in /usr/local/lib/python3.7/dist-packages (from -r requirements.txt (line 9)) (0.0.1)\n",
      "Requirement already satisfied: faiss in /usr/local/lib/python3.7/dist-packages (from -r requirements.txt (line 10)) (1.5.3)\n",
      "Requirement already satisfied: flair in /usr/local/lib/python3.7/dist-packages (from -r requirements.txt (line 11)) (0.8.0.post1)\n",
      "Requirement already satisfied: pluggy<0.8,>=0.5 in /usr/local/lib/python3.7/dist-packages (from pytest->-r requirements.txt (line 2)) (0.7.1)\n",
      "Requirement already satisfied: six>=1.10.0 in /usr/local/lib/python3.7/dist-packages (from pytest->-r requirements.txt (line 2)) (1.15.0)\n",
      "Requirement already satisfied: attrs>=17.4.0 in /usr/local/lib/python3.7/dist-packages (from pytest->-r requirements.txt (line 2)) (21.2.0)\n",
      "Requirement already satisfied: py>=1.5.0 in /usr/local/lib/python3.7/dist-packages (from pytest->-r requirements.txt (line 2)) (1.10.0)\n",
      "Requirement already satisfied: atomicwrites>=1.0 in /usr/local/lib/python3.7/dist-packages (from pytest->-r requirements.txt (line 2)) (1.4.0)\n",
      "Requirement already satisfied: setuptools in /usr/local/lib/python3.7/dist-packages (from pytest->-r requirements.txt (line 2)) (57.0.0)\n",
      "Requirement already satisfied: more-itertools>=4.0.0 in /usr/local/lib/python3.7/dist-packages (from pytest->-r requirements.txt (line 2)) (8.8.0)\n",
      "Requirement already satisfied: importlib-metadata in /usr/local/lib/python3.7/dist-packages (from prettytable->-r requirements.txt (line 5)) (3.10.1)\n",
      "Requirement already satisfied: wcwidth in /usr/local/lib/python3.7/dist-packages (from prettytable->-r requirements.txt (line 5)) (0.2.5)\n",
      "Requirement already satisfied: numpy in /usr/local/lib/python3.7/dist-packages (from torch->-r requirements.txt (line 8)) (1.19.5)\n",
      "Requirement already satisfied: typing-extensions in /usr/local/lib/python3.7/dist-packages (from torch->-r requirements.txt (line 8)) (3.7.4.3)\n",
      "Requirement already satisfied: beautifulsoup4 in /usr/local/lib/python3.7/dist-packages (from bs4->-r requirements.txt (line 9)) (4.6.3)\n",
      "Requirement already satisfied: langdetect in /usr/local/lib/python3.7/dist-packages (from flair->-r requirements.txt (line 11)) (1.0.9)\n",
      "Requirement already satisfied: lxml in /usr/local/lib/python3.7/dist-packages (from flair->-r requirements.txt (line 11)) (4.2.6)\n",
      "Requirement already satisfied: transformers>=4.0.0 in /usr/local/lib/python3.7/dist-packages (from flair->-r requirements.txt (line 11)) (4.8.0)\n",
      "Requirement already satisfied: tabulate in /usr/local/lib/python3.7/dist-packages (from flair->-r requirements.txt (line 11)) (0.8.9)\n",
      "Requirement already satisfied: hyperopt>=0.1.1 in /usr/local/lib/python3.7/dist-packages (from flair->-r requirements.txt (line 11)) (0.1.2)\n",
      "Requirement already satisfied: python-dateutil>=2.6.1 in /usr/local/lib/python3.7/dist-packages (from flair->-r requirements.txt (line 11)) (2.8.1)\n",
      "Requirement already satisfied: mpld3==0.3 in /usr/local/lib/python3.7/dist-packages (from flair->-r requirements.txt (line 11)) (0.3)\n",
      "Requirement already satisfied: matplotlib>=2.2.3 in /usr/local/lib/python3.7/dist-packages (from flair->-r requirements.txt (line 11)) (3.2.2)\n",
      "Requirement already satisfied: ftfy in /usr/local/lib/python3.7/dist-packages (from flair->-r requirements.txt (line 11)) (6.0.3)\n",
      "Requirement already satisfied: deprecated>=1.2.4 in /usr/local/lib/python3.7/dist-packages (from flair->-r requirements.txt (line 11)) (1.2.12)\n",
      "Requirement already satisfied: janome in /usr/local/lib/python3.7/dist-packages (from flair->-r requirements.txt (line 11)) (0.4.1)\n",
      "Requirement already satisfied: huggingface-hub in /usr/local/lib/python3.7/dist-packages (from flair->-r requirements.txt (line 11)) (0.0.12)\n",
      "Requirement already satisfied: regex in /usr/local/lib/python3.7/dist-packages (from flair->-r requirements.txt (line 11)) (2019.12.20)\n",
      "Requirement already satisfied: konoha<5.0.0,>=4.0.0 in /usr/local/lib/python3.7/dist-packages (from flair->-r requirements.txt (line 11)) (4.6.5)\n",
      "Requirement already satisfied: scikit-learn>=0.21.3 in /usr/local/lib/python3.7/dist-packages (from flair->-r requirements.txt (line 11)) (0.22.2.post1)\n",
      "Requirement already satisfied: sqlitedict>=1.6.0 in /usr/local/lib/python3.7/dist-packages (from flair->-r requirements.txt (line 11)) (1.7.0)\n",
      "Requirement already satisfied: sentencepiece==0.1.95 in /usr/local/lib/python3.7/dist-packages (from flair->-r requirements.txt (line 11)) (0.1.95)\n",
      "Requirement already satisfied: segtok>=1.5.7 in /usr/local/lib/python3.7/dist-packages (from flair->-r requirements.txt (line 11)) (1.5.10)\n",
      "Requirement already satisfied: gdown==3.12.2 in /usr/local/lib/python3.7/dist-packages (from flair->-r requirements.txt (line 11)) (3.12.2)\n",
      "Requirement already satisfied: gensim<=3.8.3,>=3.4.0 in /usr/local/lib/python3.7/dist-packages (from flair->-r requirements.txt (line 11)) (3.6.0)\n",
      "Requirement already satisfied: bpemb>=0.3.2 in /usr/local/lib/python3.7/dist-packages (from flair->-r requirements.txt (line 11)) (0.3.3)\n",
      "Requirement already satisfied: filelock in /usr/local/lib/python3.7/dist-packages (from gdown==3.12.2->flair->-r requirements.txt (line 11)) (3.0.12)\n",
      "Requirement already satisfied: requests[socks] in /usr/local/lib/python3.7/dist-packages (from gdown==3.12.2->flair->-r requirements.txt (line 11)) (2.25.1)\n",
      "Requirement already satisfied: wrapt<2,>=1.10 in /usr/local/lib/python3.7/dist-packages (from deprecated>=1.2.4->flair->-r requirements.txt (line 11)) (1.12.1)\n",
      "Requirement already satisfied: smart-open>=1.2.1 in /usr/local/lib/python3.7/dist-packages (from gensim<=3.8.3,>=3.4.0->flair->-r requirements.txt (line 11)) (5.1.0)\n",
      "Requirement already satisfied: scipy>=0.18.1 in /usr/local/lib/python3.7/dist-packages (from gensim<=3.8.3,>=3.4.0->flair->-r requirements.txt (line 11)) (1.4.1)\n",
      "Requirement already satisfied: future in /usr/local/lib/python3.7/dist-packages (from hyperopt>=0.1.1->flair->-r requirements.txt (line 11)) (0.16.0)\n",
      "Requirement already satisfied: networkx in /usr/local/lib/python3.7/dist-packages (from hyperopt>=0.1.1->flair->-r requirements.txt (line 11)) (2.5.1)\n",
      "Requirement already satisfied: overrides<4.0.0,>=3.0.0 in /usr/local/lib/python3.7/dist-packages (from konoha<5.0.0,>=4.0.0->flair->-r requirements.txt (line 11)) (3.1.0)\n",
      "Requirement already satisfied: zipp>=0.5 in /usr/local/lib/python3.7/dist-packages (from importlib-metadata->prettytable->-r requirements.txt (line 5)) (3.4.1)\n",
      "Requirement already satisfied: kiwisolver>=1.0.1 in /usr/local/lib/python3.7/dist-packages (from matplotlib>=2.2.3->flair->-r requirements.txt (line 11)) (1.3.1)\n",
      "Requirement already satisfied: cycler>=0.10 in /usr/local/lib/python3.7/dist-packages (from matplotlib>=2.2.3->flair->-r requirements.txt (line 11)) (0.10.0)\n",
      "Requirement already satisfied: pyparsing!=2.0.4,!=2.1.2,!=2.1.6,>=2.0.1 in /usr/local/lib/python3.7/dist-packages (from matplotlib>=2.2.3->flair->-r requirements.txt (line 11)) (2.4.7)\n",
      "Requirement already satisfied: certifi>=2017.4.17 in /usr/local/lib/python3.7/dist-packages (from requests[socks]->gdown==3.12.2->flair->-r requirements.txt (line 11)) (2021.5.30)\n",
      "Requirement already satisfied: idna<3,>=2.5 in /usr/local/lib/python3.7/dist-packages (from requests[socks]->gdown==3.12.2->flair->-r requirements.txt (line 11)) (2.10)\n",
      "Requirement already satisfied: chardet<5,>=3.0.2 in /usr/local/lib/python3.7/dist-packages (from requests[socks]->gdown==3.12.2->flair->-r requirements.txt (line 11)) (3.0.4)\n",
      "Requirement already satisfied: urllib3<1.27,>=1.21.1 in /usr/local/lib/python3.7/dist-packages (from requests[socks]->gdown==3.12.2->flair->-r requirements.txt (line 11)) (1.24.3)\n",
      "Requirement already satisfied: joblib>=0.11 in /usr/local/lib/python3.7/dist-packages (from scikit-learn>=0.21.3->flair->-r requirements.txt (line 11)) (1.0.1)\n",
      "Requirement already satisfied: tokenizers<0.11,>=0.10.1 in /usr/local/lib/python3.7/dist-packages (from transformers>=4.0.0->flair->-r requirements.txt (line 11)) (0.10.3)\n",
      "Requirement already satisfied: pyyaml in /usr/local/lib/python3.7/dist-packages (from transformers>=4.0.0->flair->-r requirements.txt (line 11)) (5.4.1)\n",
      "Requirement already satisfied: packaging in /usr/local/lib/python3.7/dist-packages (from transformers>=4.0.0->flair->-r requirements.txt (line 11)) (20.9)\n",
      "Requirement already satisfied: sacremoses in /usr/local/lib/python3.7/dist-packages (from transformers>=4.0.0->flair->-r requirements.txt (line 11)) (0.0.45)\n",
      "Requirement already satisfied: decorator<5,>=4.3 in /usr/local/lib/python3.7/dist-packages (from networkx->hyperopt>=0.1.1->flair->-r requirements.txt (line 11)) (4.4.2)\n",
      "Requirement already satisfied: PySocks!=1.5.7,>=1.5.6 in /usr/local/lib/python3.7/dist-packages (from requests[socks]->gdown==3.12.2->flair->-r requirements.txt (line 11)) (1.7.1)\n",
      "Requirement already satisfied: click in /usr/local/lib/python3.7/dist-packages (from sacremoses->transformers>=4.0.0->flair->-r requirements.txt (line 11)) (7.1.2)\n",
      "\u001b[33mWARNING: Running pip as root will break packages and permissions. You should install packages reliably by using venv: https://pip.pypa.io/warnings/venv\u001b[0m\n",
      "running install\n",
      "running bdist_egg\n",
      "running egg_info\n",
      "writing kilt.egg-info/PKG-INFO\n",
      "writing dependency_links to kilt.egg-info/dependency_links.txt\n",
      "writing top-level names to kilt.egg-info/top_level.txt\n",
      "adding license file 'LICENSE'\n",
      "writing manifest file 'kilt.egg-info/SOURCES.txt'\n",
      "installing library code to build/bdist.linux-x86_64/egg\n",
      "running install_lib\n",
      "running build_py\n",
      "creating build/bdist.linux-x86_64/egg\n",
      "creating build/bdist.linux-x86_64/egg/tests\n",
      "copying build/lib/tests/test_eval_downstream.py -> build/bdist.linux-x86_64/egg/tests\n",
      "creating build/bdist.linux-x86_64/egg/tests/test_data\n",
      "copying build/lib/tests/test_data/__init__.py -> build/bdist.linux-x86_64/egg/tests/test_data\n",
      "copying build/lib/tests/__init__.py -> build/bdist.linux-x86_64/egg/tests\n",
      "copying build/lib/tests/test_eval_retrieval.py -> build/bdist.linux-x86_64/egg/tests\n",
      "creating build/bdist.linux-x86_64/egg/kilt\n",
      "copying build/lib/kilt/eval_downstream.py -> build/bdist.linux-x86_64/egg/kilt\n",
      "copying build/lib/kilt/kilt_utils.py -> build/bdist.linux-x86_64/egg/kilt\n",
      "copying build/lib/kilt/retrieval.py -> build/bdist.linux-x86_64/egg/kilt\n",
      "creating build/bdist.linux-x86_64/egg/kilt/retrievers\n",
      "copying build/lib/kilt/retrievers/DrQA_tfidf.py -> build/bdist.linux-x86_64/egg/kilt/retrievers\n",
      "copying build/lib/kilt/retrievers/BM25_connector.py -> build/bdist.linux-x86_64/egg/kilt/retrievers\n",
      "copying build/lib/kilt/retrievers/base_retriever.py -> build/bdist.linux-x86_64/egg/kilt/retrievers\n",
      "copying build/lib/kilt/retrievers/DPR_connector.py -> build/bdist.linux-x86_64/egg/kilt/retrievers\n",
      "copying build/lib/kilt/retrievers/__init__.py -> build/bdist.linux-x86_64/egg/kilt/retrievers\n",
      "copying build/lib/kilt/retrievers/BLINK_connector.py -> build/bdist.linux-x86_64/egg/kilt/retrievers\n",
      "creating build/bdist.linux-x86_64/egg/kilt/configs\n",
      "creating build/bdist.linux-x86_64/egg/kilt/configs/retriever\n",
      "copying build/lib/kilt/configs/retriever/__init__.py -> build/bdist.linux-x86_64/egg/kilt/configs/retriever\n",
      "copying build/lib/kilt/configs/__init__.py -> build/bdist.linux-x86_64/egg/kilt/configs\n",
      "copying build/lib/kilt/eval_retrieval.py -> build/bdist.linux-x86_64/egg/kilt\n",
      "copying build/lib/kilt/__init__.py -> build/bdist.linux-x86_64/egg/kilt\n",
      "copying build/lib/kilt/knowledge_source.py -> build/bdist.linux-x86_64/egg/kilt\n",
      "creating build/bdist.linux-x86_64/egg/kilt/datasets\n",
      "copying build/lib/kilt/datasets/zero_shot_re.py -> build/bdist.linux-x86_64/egg/kilt/datasets\n",
      "copying build/lib/kilt/datasets/natural_questions.py -> build/bdist.linux-x86_64/egg/kilt/datasets\n",
      "copying build/lib/kilt/datasets/base_dataset.py -> build/bdist.linux-x86_64/egg/kilt/datasets\n",
      "copying build/lib/kilt/datasets/triviaqa.py -> build/bdist.linux-x86_64/egg/kilt/datasets\n",
      "copying build/lib/kilt/datasets/fact_verification.py -> build/bdist.linux-x86_64/egg/kilt/datasets\n",
      "copying build/lib/kilt/datasets/entity_linking.py -> build/bdist.linux-x86_64/egg/kilt/datasets\n",
      "copying build/lib/kilt/datasets/hotpotqa_ks.py -> build/bdist.linux-x86_64/egg/kilt/datasets\n",
      "copying build/lib/kilt/datasets/__init__.py -> build/bdist.linux-x86_64/egg/kilt/datasets\n",
      "copying build/lib/kilt/datasets/hotpotqa.py -> build/bdist.linux-x86_64/egg/kilt/datasets\n",
      "copying build/lib/kilt/dataset_mapper.py -> build/bdist.linux-x86_64/egg/kilt\n",
      "byte-compiling build/bdist.linux-x86_64/egg/tests/test_eval_downstream.py to test_eval_downstream.cpython-37.pyc\n",
      "byte-compiling build/bdist.linux-x86_64/egg/tests/test_data/__init__.py to __init__.cpython-37.pyc\n",
      "byte-compiling build/bdist.linux-x86_64/egg/tests/__init__.py to __init__.cpython-37.pyc\n",
      "byte-compiling build/bdist.linux-x86_64/egg/tests/test_eval_retrieval.py to test_eval_retrieval.cpython-37.pyc\n",
      "byte-compiling build/bdist.linux-x86_64/egg/kilt/eval_downstream.py to eval_downstream.cpython-37.pyc\n",
      "byte-compiling build/bdist.linux-x86_64/egg/kilt/kilt_utils.py to kilt_utils.cpython-37.pyc\n",
      "byte-compiling build/bdist.linux-x86_64/egg/kilt/retrieval.py to retrieval.cpython-37.pyc\n",
      "byte-compiling build/bdist.linux-x86_64/egg/kilt/retrievers/DrQA_tfidf.py to DrQA_tfidf.cpython-37.pyc\n",
      "byte-compiling build/bdist.linux-x86_64/egg/kilt/retrievers/BM25_connector.py to BM25_connector.cpython-37.pyc\n",
      "byte-compiling build/bdist.linux-x86_64/egg/kilt/retrievers/base_retriever.py to base_retriever.cpython-37.pyc\n",
      "byte-compiling build/bdist.linux-x86_64/egg/kilt/retrievers/DPR_connector.py to DPR_connector.cpython-37.pyc\n",
      "byte-compiling build/bdist.linux-x86_64/egg/kilt/retrievers/__init__.py to __init__.cpython-37.pyc\n",
      "byte-compiling build/bdist.linux-x86_64/egg/kilt/retrievers/BLINK_connector.py to BLINK_connector.cpython-37.pyc\n",
      "byte-compiling build/bdist.linux-x86_64/egg/kilt/configs/retriever/__init__.py to __init__.cpython-37.pyc\n",
      "byte-compiling build/bdist.linux-x86_64/egg/kilt/configs/__init__.py to __init__.cpython-37.pyc\n",
      "byte-compiling build/bdist.linux-x86_64/egg/kilt/eval_retrieval.py to eval_retrieval.cpython-37.pyc\n",
      "byte-compiling build/bdist.linux-x86_64/egg/kilt/__init__.py to __init__.cpython-37.pyc\n",
      "byte-compiling build/bdist.linux-x86_64/egg/kilt/knowledge_source.py to knowledge_source.cpython-37.pyc\n",
      "byte-compiling build/bdist.linux-x86_64/egg/kilt/datasets/zero_shot_re.py to zero_shot_re.cpython-37.pyc\n",
      "byte-compiling build/bdist.linux-x86_64/egg/kilt/datasets/natural_questions.py to natural_questions.cpython-37.pyc\n",
      "byte-compiling build/bdist.linux-x86_64/egg/kilt/datasets/base_dataset.py to base_dataset.cpython-37.pyc\n",
      "byte-compiling build/bdist.linux-x86_64/egg/kilt/datasets/triviaqa.py to triviaqa.cpython-37.pyc\n",
      "byte-compiling build/bdist.linux-x86_64/egg/kilt/datasets/fact_verification.py to fact_verification.cpython-37.pyc\n",
      "byte-compiling build/bdist.linux-x86_64/egg/kilt/datasets/entity_linking.py to entity_linking.cpython-37.pyc\n",
      "byte-compiling build/bdist.linux-x86_64/egg/kilt/datasets/hotpotqa_ks.py to hotpotqa_ks.cpython-37.pyc\n",
      "byte-compiling build/bdist.linux-x86_64/egg/kilt/datasets/__init__.py to __init__.cpython-37.pyc\n",
      "byte-compiling build/bdist.linux-x86_64/egg/kilt/datasets/hotpotqa.py to hotpotqa.cpython-37.pyc\n",
      "byte-compiling build/bdist.linux-x86_64/egg/kilt/dataset_mapper.py to dataset_mapper.cpython-37.pyc\n",
      "creating build/bdist.linux-x86_64/egg/EGG-INFO\n",
      "copying kilt.egg-info/PKG-INFO -> build/bdist.linux-x86_64/egg/EGG-INFO\n",
      "copying kilt.egg-info/SOURCES.txt -> build/bdist.linux-x86_64/egg/EGG-INFO\n",
      "copying kilt.egg-info/dependency_links.txt -> build/bdist.linux-x86_64/egg/EGG-INFO\n",
      "copying kilt.egg-info/top_level.txt -> build/bdist.linux-x86_64/egg/EGG-INFO\n",
      "zip_safe flag not set; analyzing archive contents...\n",
      "creating 'dist/kilt-0.1.0-py3.7.egg' and adding 'build/bdist.linux-x86_64/egg' to it\n",
      "removing 'build/bdist.linux-x86_64/egg' (and everything under it)\n",
      "Processing kilt-0.1.0-py3.7.egg\n",
      "Removing /usr/local/lib/python3.7/dist-packages/kilt-0.1.0-py3.7.egg\n",
      "Copying kilt-0.1.0-py3.7.egg to /usr/local/lib/python3.7/dist-packages\n",
      "kilt 0.1.0 is already the active version in easy-install.pth\n",
      "\n",
      "Installed /usr/local/lib/python3.7/dist-packages/kilt-0.1.0-py3.7.egg\n",
      "Processing dependencies for kilt==0.1.0\n",
      "Finished processing dependencies for kilt==0.1.0\n",
      "/content/genre_test\n",
      "fatal: destination path 'GENRE' already exists and is not an empty directory.\n",
      "/content/genre_test/GENRE\n",
      "Requirement already satisfied: unidecode in /usr/local/lib/python3.7/dist-packages (from -r requirements.txt (line 1)) (1.2.0)\n",
      "Requirement already satisfied: requests in /usr/local/lib/python3.7/dist-packages (from -r requirements.txt (line 2)) (2.25.1)\n",
      "Requirement already satisfied: kilt in /usr/local/lib/python3.7/dist-packages/kilt-0.1.0-py3.7.egg (from -r requirements.txt (line 3)) (0.1.0)\n",
      "Requirement already satisfied: fairseq in /content/genre_test/fairseq (from -r requirements.txt (line 4)) (1.0.0a0+4c4d5a7)\n",
      "Requirement already satisfied: transformers in /usr/local/lib/python3.7/dist-packages (from -r requirements.txt (line 5)) (4.8.0)\n",
      "Requirement already satisfied: urllib3<1.27,>=1.21.1 in /usr/local/lib/python3.7/dist-packages (from requests->-r requirements.txt (line 2)) (1.24.3)\n",
      "Requirement already satisfied: certifi>=2017.4.17 in /usr/local/lib/python3.7/dist-packages (from requests->-r requirements.txt (line 2)) (2021.5.30)\n",
      "Requirement already satisfied: idna<3,>=2.5 in /usr/local/lib/python3.7/dist-packages (from requests->-r requirements.txt (line 2)) (2.10)\n",
      "Requirement already satisfied: chardet<5,>=3.0.2 in /usr/local/lib/python3.7/dist-packages (from requests->-r requirements.txt (line 2)) (3.0.4)\n",
      "Requirement already satisfied: cffi in /usr/local/lib/python3.7/dist-packages (from fairseq->-r requirements.txt (line 4)) (1.14.5)\n",
      "Requirement already satisfied: cython in /usr/local/lib/python3.7/dist-packages (from fairseq->-r requirements.txt (line 4)) (0.29.23)\n",
      "Requirement already satisfied: hydra-core<1.1 in /usr/local/lib/python3.7/dist-packages (from fairseq->-r requirements.txt (line 4)) (1.0.6)\n",
      "Requirement already satisfied: omegaconf<2.1 in /usr/local/lib/python3.7/dist-packages (from fairseq->-r requirements.txt (line 4)) (2.0.6)\n",
      "Requirement already satisfied: regex in /usr/local/lib/python3.7/dist-packages (from fairseq->-r requirements.txt (line 4)) (2019.12.20)\n",
      "Requirement already satisfied: sacrebleu>=1.4.12 in /usr/local/lib/python3.7/dist-packages (from fairseq->-r requirements.txt (line 4)) (1.5.1)\n",
      "Requirement already satisfied: torch in /usr/local/lib/python3.7/dist-packages (from fairseq->-r requirements.txt (line 4)) (1.7.1)\n",
      "Requirement already satisfied: tqdm in /usr/local/lib/python3.7/dist-packages (from fairseq->-r requirements.txt (line 4)) (4.41.1)\n",
      "Requirement already satisfied: numpy in /usr/local/lib/python3.7/dist-packages (from fairseq->-r requirements.txt (line 4)) (1.19.5)\n",
      "Requirement already satisfied: antlr4-python3-runtime==4.8 in /usr/local/lib/python3.7/dist-packages (from hydra-core<1.1->fairseq->-r requirements.txt (line 4)) (4.8)\n",
      "Requirement already satisfied: importlib-resources in /usr/local/lib/python3.7/dist-packages (from hydra-core<1.1->fairseq->-r requirements.txt (line 4)) (5.1.4)\n",
      "Requirement already satisfied: typing-extensions in /usr/local/lib/python3.7/dist-packages (from omegaconf<2.1->fairseq->-r requirements.txt (line 4)) (3.7.4.3)\n",
      "Requirement already satisfied: PyYAML>=5.1.* in /usr/local/lib/python3.7/dist-packages (from omegaconf<2.1->fairseq->-r requirements.txt (line 4)) (5.4.1)\n",
      "Requirement already satisfied: portalocker==2.0.0 in /usr/local/lib/python3.7/dist-packages (from sacrebleu>=1.4.12->fairseq->-r requirements.txt (line 4)) (2.0.0)\n",
      "Requirement already satisfied: huggingface-hub==0.0.12 in /usr/local/lib/python3.7/dist-packages (from transformers->-r requirements.txt (line 5)) (0.0.12)\n",
      "Requirement already satisfied: tokenizers<0.11,>=0.10.1 in /usr/local/lib/python3.7/dist-packages (from transformers->-r requirements.txt (line 5)) (0.10.3)\n",
      "Requirement already satisfied: packaging in /usr/local/lib/python3.7/dist-packages (from transformers->-r requirements.txt (line 5)) (20.9)\n",
      "Requirement already satisfied: filelock in /usr/local/lib/python3.7/dist-packages (from transformers->-r requirements.txt (line 5)) (3.0.12)\n",
      "Requirement already satisfied: sacremoses in /usr/local/lib/python3.7/dist-packages (from transformers->-r requirements.txt (line 5)) (0.0.45)\n",
      "Requirement already satisfied: importlib-metadata in /usr/local/lib/python3.7/dist-packages (from transformers->-r requirements.txt (line 5)) (3.10.1)\n",
      "Requirement already satisfied: pyparsing>=2.0.2 in /usr/local/lib/python3.7/dist-packages (from packaging->transformers->-r requirements.txt (line 5)) (2.4.7)\n",
      "Requirement already satisfied: pycparser in /usr/local/lib/python3.7/dist-packages (from cffi->fairseq->-r requirements.txt (line 4)) (2.20)\n",
      "Requirement already satisfied: zipp>=0.5 in /usr/local/lib/python3.7/dist-packages (from importlib-metadata->transformers->-r requirements.txt (line 5)) (3.4.1)\n",
      "Requirement already satisfied: click in /usr/local/lib/python3.7/dist-packages (from sacremoses->transformers->-r requirements.txt (line 5)) (7.1.2)\n",
      "Requirement already satisfied: six in /usr/local/lib/python3.7/dist-packages (from sacremoses->transformers->-r requirements.txt (line 5)) (1.15.0)\n",
      "Requirement already satisfied: joblib in /usr/local/lib/python3.7/dist-packages (from sacremoses->transformers->-r requirements.txt (line 5)) (1.0.1)\n",
      "\u001b[33mWARNING: Running pip as root will break packages and permissions. You should install packages reliably by using venv: https://pip.pypa.io/warnings/venv\u001b[0m\n",
      "running install\n",
      "running bdist_egg\n",
      "running egg_info\n",
      "writing genre.egg-info/PKG-INFO\n",
      "writing dependency_links to genre.egg-info/dependency_links.txt\n",
      "writing top-level names to genre.egg-info/top_level.txt\n",
      "adding license file 'LICENSE'\n",
      "writing manifest file 'genre.egg-info/SOURCES.txt'\n",
      "installing library code to build/bdist.linux-x86_64/egg\n",
      "running install_lib\n",
      "running build_py\n",
      "creating build/bdist.linux-x86_64/egg\n",
      "creating build/bdist.linux-x86_64/egg/genre\n",
      "copying build/lib/genre/trie.py -> build/bdist.linux-x86_64/egg/genre\n",
      "copying build/lib/genre/fairseq_model.py -> build/bdist.linux-x86_64/egg/genre\n",
      "copying build/lib/genre/hf_model.py -> build/bdist.linux-x86_64/egg/genre\n",
      "copying build/lib/genre/entity_linking.py -> build/bdist.linux-x86_64/egg/genre\n",
      "copying build/lib/genre/__init__.py -> build/bdist.linux-x86_64/egg/genre\n",
      "copying build/lib/genre/utils.py -> build/bdist.linux-x86_64/egg/genre\n",
      "creating build/bdist.linux-x86_64/egg/tests\n",
      "copying build/lib/tests/test_example.py -> build/bdist.linux-x86_64/egg/tests\n",
      "copying build/lib/tests/__init__.py -> build/bdist.linux-x86_64/egg/tests\n",
      "byte-compiling build/bdist.linux-x86_64/egg/genre/trie.py to trie.cpython-37.pyc\n",
      "byte-compiling build/bdist.linux-x86_64/egg/genre/fairseq_model.py to fairseq_model.cpython-37.pyc\n",
      "byte-compiling build/bdist.linux-x86_64/egg/genre/hf_model.py to hf_model.cpython-37.pyc\n",
      "byte-compiling build/bdist.linux-x86_64/egg/genre/entity_linking.py to entity_linking.cpython-37.pyc\n",
      "byte-compiling build/bdist.linux-x86_64/egg/genre/__init__.py to __init__.cpython-37.pyc\n",
      "byte-compiling build/bdist.linux-x86_64/egg/genre/utils.py to utils.cpython-37.pyc\n",
      "byte-compiling build/bdist.linux-x86_64/egg/tests/test_example.py to test_example.cpython-37.pyc\n",
      "byte-compiling build/bdist.linux-x86_64/egg/tests/__init__.py to __init__.cpython-37.pyc\n",
      "creating build/bdist.linux-x86_64/egg/EGG-INFO\n",
      "copying genre.egg-info/PKG-INFO -> build/bdist.linux-x86_64/egg/EGG-INFO\n",
      "copying genre.egg-info/SOURCES.txt -> build/bdist.linux-x86_64/egg/EGG-INFO\n",
      "copying genre.egg-info/dependency_links.txt -> build/bdist.linux-x86_64/egg/EGG-INFO\n",
      "copying genre.egg-info/top_level.txt -> build/bdist.linux-x86_64/egg/EGG-INFO\n",
      "zip_safe flag not set; analyzing archive contents...\n",
      "creating 'dist/genre-0.1.1-py3.7.egg' and adding 'build/bdist.linux-x86_64/egg' to it\n",
      "removing 'build/bdist.linux-x86_64/egg' (and everything under it)\n",
      "Processing genre-0.1.1-py3.7.egg\n",
      "Removing /usr/local/lib/python3.7/dist-packages/genre-0.1.1-py3.7.egg\n",
      "Copying genre-0.1.1-py3.7.egg to /usr/local/lib/python3.7/dist-packages\n",
      "genre 0.1.1 is already the active version in easy-install.pth\n",
      "\n",
      "Installed /usr/local/lib/python3.7/dist-packages/genre-0.1.1-py3.7.egg\n",
      "Processing dependencies for genre==0.1.1\n",
      "Finished processing dependencies for genre==0.1.1\n",
      "/content/genre_test\n"
     ]
    }
   ],
   "source": [
    "# create project directory (could be any name)\n",
    "!mkdir genre_test\n",
    "# create and activate virtual environment\n",
    "%cd genre_test\n",
    "!python -m venv .venv_genre\n",
    "!source .venv_genre/bin/activate\n",
    "# upgrade pip\n",
    "!pip install --upgrade pip\n",
    "# install correct version of of fairseq\n",
    "!git clone --branch fixing_prefix_allowed_tokens_fn https://github.com/nicola-decao/fairseq\n",
    "%cd fairseq\n",
    "!pip install --editable ./\n",
    "%cd ..\n",
    "# install transformers\n",
    "!pip install transformers\n",
    "# install KITL\n",
    "!git clone https://github.com/facebookresearch/KILT.git\n",
    "%cd KILT\n",
    "!pip install -r requirements.txt\n",
    "!python setup.py install\n",
    "%cd ..\n",
    "# install GENRE\n",
    "!git clone https://github.com/facebookresearch/GENRE.git\n",
    "%cd GENRE\n",
    "!pip install -r requirements.txt\n",
    "!python setup.py install\n",
    "%cd .."
   ]
  },
  {
   "cell_type": "code",
   "execution_count": 2,
   "metadata": {
    "colab": {
     "base_uri": "https://localhost:8080/",
     "height": 35
    },
    "id": "hwSIG3q8JCHL",
    "outputId": "cae8e715-5c91-4a5e-986a-42a6eac68d26"
   },
   "outputs": [
    {
     "data": {
      "application/vnd.google.colaboratory.intrinsic+json": {
       "type": "string"
      },
      "text/plain": [
       "'/content/genre_test'"
      ]
     },
     "execution_count": 2,
     "metadata": {
      "tags": []
     },
     "output_type": "execute_result"
    }
   ],
   "source": [
    "%pwd"
   ]
  },
  {
   "cell_type": "code",
   "execution_count": 3,
   "metadata": {
    "id": "WUP5OHrEe3Og"
   },
   "outputs": [],
   "source": [
    "# %cd .."
   ]
  },
  {
   "cell_type": "code",
   "execution_count": 4,
   "metadata": {
    "id": "FGtXeozEJFzZ"
   },
   "outputs": [],
   "source": [
    "import pickle\n",
    "from genre.trie import Trie\n",
    "from genre.hf_model import GENRE"
   ]
  },
  {
   "cell_type": "code",
   "execution_count": 5,
   "metadata": {
    "colab": {
     "base_uri": "https://localhost:8080/"
    },
    "id": "jkAxTjMpU8Mk",
    "outputId": "7029c777-1e92-4187-f6bd-c23e6abe8fd8"
   },
   "outputs": [
    {
     "name": "stdout",
     "output_type": "stream",
     "text": [
      "--2021-06-24 02:50:45--  http://dl.fbaipublicfiles.com/GENRE/kilt_titles_trie_dict.pkl\n",
      "Resolving dl.fbaipublicfiles.com (dl.fbaipublicfiles.com)... 104.22.74.142, 172.67.9.4, 104.22.75.142, ...\n",
      "Connecting to dl.fbaipublicfiles.com (dl.fbaipublicfiles.com)|104.22.74.142|:80... connected.\n",
      "HTTP request sent, awaiting response... 200 OK\n",
      "Length: 215214973 (205M) [application/octet-stream]\n",
      "Saving to: ‘kilt_titles_trie_dict.pkl.1’\n",
      "\n",
      "kilt_titles_trie_di 100%[===================>] 205.24M  12.2MB/s    in 18s     \n",
      "\n",
      "2021-06-24 02:51:04 (11.2 MB/s) - ‘kilt_titles_trie_dict.pkl.1’ saved [215214973/215214973]\n",
      "\n"
     ]
    }
   ],
   "source": [
    "!wget http://dl.fbaipublicfiles.com/GENRE/kilt_titles_trie_dict.pkl"
   ]
  },
  {
   "cell_type": "code",
   "execution_count": 6,
   "metadata": {
    "id": "FdYxXff1hehA"
   },
   "outputs": [],
   "source": [
    "with open(\"kilt_titles_trie_dict.pkl\", \"rb\") as f:\n",
    "    trie = Trie.load_from_dict(pickle.load(f))"
   ]
  },
  {
   "cell_type": "markdown",
   "metadata": {
    "id": "2vy2NwlFdex7"
   },
   "source": [
    "1. Document Retieval (Wikipedia)"
   ]
  },
  {
   "cell_type": "code",
   "execution_count": 7,
   "metadata": {
    "id": "WuVXyT-jZHSP"
   },
   "outputs": [],
   "source": [
    "# !wget http://dl.fbaipublicfiles.com/GENRE/hf_wikipage_retrieval.tar.gz"
   ]
  },
  {
   "cell_type": "code",
   "execution_count": 8,
   "metadata": {
    "id": "jsFC15_f0N9p"
   },
   "outputs": [],
   "source": [
    "# !tar -zxvf hf_wikipage_retrieval.tar.gz"
   ]
  },
  {
   "cell_type": "code",
   "execution_count": 9,
   "metadata": {
    "id": "1NeriMNTlbie"
   },
   "outputs": [],
   "source": [
    "# DR_model = GENRE.from_pretrained(\"hf_wikipage_retrieval\").eval()"
   ]
  },
  {
   "cell_type": "code",
   "execution_count": 10,
   "metadata": {
    "id": "ZXv72g8FeFY0"
   },
   "outputs": [],
   "source": [
    "# sentences = [\"In 1921, Einstein received a Nobel Prize.\"]\n",
    "\n",
    "# DR_model.sample(\n",
    "#     sentences,\n",
    "#     prefix_allowed_tokens_fn=lambda batch_id, sent: trie.get(sent.tolist()),\n",
    "# )"
   ]
  },
  {
   "cell_type": "markdown",
   "metadata": {
    "id": "Mf94OW4Mdv-C"
   },
   "source": [
    "2. Entity Disambiguation"
   ]
  },
  {
   "cell_type": "code",
   "execution_count": 11,
   "metadata": {
    "id": "_oZ1KsWss0vj"
   },
   "outputs": [],
   "source": [
    "# !wget http://dl.fbaipublicfiles.com/GENRE/hf_entity_disambiguation_blink.tar.gz\n",
    "# !tar -zxvf hf_entity_disambiguation_blink.tar.gz"
   ]
  },
  {
   "cell_type": "code",
   "execution_count": 12,
   "metadata": {
    "id": "J1M9A-8cfdHq"
   },
   "outputs": [],
   "source": [
    "# ED_model_1 = GENRE.from_pretrained(\"hf_entity_disambiguation_blink\").eval()"
   ]
  },
  {
   "cell_type": "code",
   "execution_count": 13,
   "metadata": {
    "id": "L774aSBMgC2k"
   },
   "outputs": [],
   "source": [
    "# sentences = [\"Cristiano was an outstanding [START_ENT] soccer player [END_ENT].\"]\n",
    "\n",
    "# ED_model_1.sample(\n",
    "#     sentences,\n",
    "#     prefix_allowed_tokens_fn=lambda batch_id, sent: trie.get(sent.tolist()),\n",
    "# )"
   ]
  },
  {
   "cell_type": "code",
   "execution_count": 14,
   "metadata": {
    "id": "bkRokULplLvC"
   },
   "outputs": [],
   "source": [
    "# !wget http://dl.fbaipublicfiles.com/GENRE/hf_entity_disambiguation_aidayago.tar.gz\n",
    "# !tar -zxvf hf_entity_disambiguation_aidayago.tar.gz"
   ]
  },
  {
   "cell_type": "code",
   "execution_count": 15,
   "metadata": {
    "id": "j_d-BF-YmVGe"
   },
   "outputs": [],
   "source": [
    "# ED_model_2 = GENRE.from_pretrained(\"hf_entity_disambiguation_aidayago\").eval()"
   ]
  },
  {
   "cell_type": "code",
   "execution_count": 16,
   "metadata": {
    "id": "mc6JZCUHmfuj"
   },
   "outputs": [],
   "source": [
    "# sentences = [\"Cristiano was an outstanding [START_ENT] soccer player [END_ENT].\"]\n",
    "\n",
    "# ED_model_2.sample(\n",
    "#     sentences,\n",
    "#     prefix_allowed_tokens_fn=lambda batch_id, sent: trie.get(sent.tolist()),\n",
    "# )\n",
    "# # The result is slightly different from ED_model_1"
   ]
  },
  {
   "cell_type": "markdown",
   "metadata": {
    "id": "iWPKWesFo8cm"
   },
   "source": [
    "3. End-to-End Entity Linking"
   ]
  },
  {
   "cell_type": "code",
   "execution_count": 17,
   "metadata": {
    "colab": {
     "base_uri": "https://localhost:8080/"
    },
    "id": "683v_Sx2mlSF",
    "outputId": "6eb5c4c8-825c-492e-8dfe-0fb82461dc75"
   },
   "outputs": [
    {
     "name": "stdout",
     "output_type": "stream",
     "text": [
      "--2021-06-24 02:51:43--  http://dl.fbaipublicfiles.com/GENRE/hf_e2e_entity_linking_wiki_abs.tar.gz\n",
      "Resolving dl.fbaipublicfiles.com (dl.fbaipublicfiles.com)... 104.22.74.142, 172.67.9.4, 104.22.75.142, ...\n",
      "Connecting to dl.fbaipublicfiles.com (dl.fbaipublicfiles.com)|104.22.74.142|:80... connected.\n",
      "HTTP request sent, awaiting response... 200 OK\n",
      "Length: 958456496 (914M) [application/gzip]\n",
      "Saving to: ‘hf_e2e_entity_linking_wiki_abs.tar.gz.1’\n",
      "\n",
      "hf_e2e_entity_linki 100%[===================>] 914.05M  11.9MB/s    in 78s     \n",
      "\n",
      "2021-06-24 02:53:02 (11.7 MB/s) - ‘hf_e2e_entity_linking_wiki_abs.tar.gz.1’ saved [958456496/958456496]\n",
      "\n",
      "hf_e2e_entity_linking_wiki_abs/\n",
      "hf_e2e_entity_linking_wiki_abs/config.json\n",
      "hf_e2e_entity_linking_wiki_abs/pytorch_model.bin\n",
      "hf_e2e_entity_linking_wiki_abs/vocab.json\n",
      "hf_e2e_entity_linking_wiki_abs/merges.txt\n"
     ]
    }
   ],
   "source": [
    "!wget http://dl.fbaipublicfiles.com/GENRE/hf_e2e_entity_linking_wiki_abs.tar.gz\n",
    "!tar -zxvf hf_e2e_entity_linking_wiki_abs.tar.gz"
   ]
  },
  {
   "cell_type": "code",
   "execution_count": 18,
   "metadata": {
    "id": "jMwa0m0bwzFv"
   },
   "outputs": [],
   "source": [
    "E2EEL_model_1 = GENRE.from_pretrained(\"hf_e2e_entity_linking_wiki_abs\").eval()"
   ]
  },
  {
   "cell_type": "code",
   "execution_count": 19,
   "metadata": {
    "colab": {
     "base_uri": "https://localhost:8080/"
    },
    "id": "MR710l5vxBhB",
    "outputId": "75c39ab6-c56e-4dfe-b463-fd3e4d61372e"
   },
   "outputs": [
    {
     "data": {
      "text/plain": [
       "[[{'logprob': tensor(-0.8458),\n",
       "   'text': 'In { 1921 } [ List of Nobel laureates in Physics by year of publication ], { Einstein } [ Albert Einstein ] received a { Nobel Prize } [ Nobel Prize in Physiology or Medicine ] in { America } [ United States ].'}],\n",
       " [{'logprob': tensor(-1.0061),\n",
       "   'text': 'In { 1921 } [ List of Nobel laureates in Physics by year of publication ], { Einstein } [ Albert Einstein ] received a { Nobel Prize } [ Nobel Prize in Physics ] in { America } [ United States in the Nobel Prize laureates of 1921 and 1922 ].'}],\n",
       " [{'logprob': tensor(-1.4678),\n",
       "   'text': 'In { 1921 } [ List of Nobel laureates in Physics by year of publication ], { Einstein } [ Albert Einstein ] received a { Nobel Prize } [ Nobel Prize in Physics ] in { America } [ United States in the Nobel Prize laureates of 1921–1924, P. G. W. Fields Award, Prize No. 1, Mathematical Mathematical Trio and Nobel Memorial Prize in Physiology or Physiology (Euclidean-Aristotle) ].'}],\n",
       " [{'logprob': tensor(-1.4872),\n",
       "   'text': 'In { 1921 } [ List of Nobel laureates in Physics by year of publication ], { Einstein } [ Albert Einstein ] received a { Nobel Prize } [ Nobel Prize in Physics ] in { America } [ United States in the Nobel Prize laureates of 1921–1924, P. G. W. Fields Award, Prize No. 1, Mathematical Mathematical Trio and Nobel Memorial Prize in Physiology or Physiology (Euclidean-Alfred Einstein) ].'}],\n",
       " [{'logprob': tensor(-1.5680),\n",
       "   'text': \"In { 1921 } [ List of Nobel laureates in Physics by year of publication ], { Einstein } [ Albert Einstein ] received a { Nobel Prize } [ Nobel Prize in Physics ] in { America } [ United States in the Nobel Prize laureates of 1921–1924, P. G. W. Fields Award, Prize No. 1, Mathematical Mathematical Trio and Nobel Memorial Prize in Physiology or Physiology (Euclidean-Alfred Einstein) (disambiguation) (Einstein-Ausgabe-Wernher-Fürst) Aarne–Sørensen Prize in Astrophysics, Physics and Astronomy (E-manifold) B.S.O.E.) (Eddie Einstein, Baron Ephraim Ebbesen, and Albert Einstein, Physicist A.N.D. in A-B-E-F-S-T-M-A-N-E and E-S.M.E. the Einstein Prize, Prize A1-E26 and A2-A3-A4-A5-A7 (Effortless) and A6-A8-A9-E8-E12-E9 (Eighth generation) and E87-E92-E93-E96-E98-E99-E97-E112 and A1st-E100-Einstein's Prize in A1 and A3-E94-E107-E108 and A4-E102-E103-E110 and A5-E106-E104-E105-E109-E101 (E96 and A7-E95-F1-97 and A8-981-982-E77 and A9-93-971-93 and A10-92-931-92 and I1-95-93'981'982'98'97 and1'95-98'96'97'95'98, and in French\"}]]"
      ]
     },
     "execution_count": 19,
     "metadata": {
      "tags": []
     },
     "output_type": "execute_result"
    }
   ],
   "source": [
    "from genre.entity_linking import get_end_to_end_prefix_allowed_tokens_fn_hf as get_prefix_allowed_tokens_fn\n",
    "\n",
    "sentences = [\"In 1921, Einstein received a Nobel Prize in America.\"]\n",
    "\n",
    "prefix_allowed_tokens_fn = get_prefix_allowed_tokens_fn(E2EEL_model_1, sentences)\n",
    "\n",
    "E2EEL_model_1.sample(\n",
    "    sentences,\n",
    "    prefix_allowed_tokens_fn=prefix_allowed_tokens_fn,\n",
    ")"
   ]
  },
  {
   "cell_type": "code",
   "execution_count": 20,
   "metadata": {
    "colab": {
     "base_uri": "https://localhost:8080/"
    },
    "id": "FHlo--TkzCFk",
    "outputId": "471cc51e-15b2-4c59-bb51-9d34de1c9c1c"
   },
   "outputs": [
    {
     "name": "stdout",
     "output_type": "stream",
     "text": [
      "--2021-06-24 02:56:02--  http://dl.fbaipublicfiles.com/GENRE/hf_e2e_entity_linking_aidayago.tar.gz\n",
      "Resolving dl.fbaipublicfiles.com (dl.fbaipublicfiles.com)... 104.22.75.142, 104.22.74.142, 172.67.9.4, ...\n",
      "Connecting to dl.fbaipublicfiles.com (dl.fbaipublicfiles.com)|104.22.75.142|:80... connected.\n",
      "HTTP request sent, awaiting response... 200 OK\n",
      "Length: 958460503 (914M) [application/gzip]\n",
      "Saving to: ‘hf_e2e_entity_linking_aidayago.tar.gz.1’\n",
      "\n",
      "hf_e2e_entity_linki 100%[===================>] 914.06M  11.9MB/s    in 78s     \n",
      "\n",
      "2021-06-24 02:57:20 (11.7 MB/s) - ‘hf_e2e_entity_linking_aidayago.tar.gz.1’ saved [958460503/958460503]\n",
      "\n",
      "hf_e2e_entity_linking_aidayago/\n",
      "hf_e2e_entity_linking_aidayago/config.json\n",
      "hf_e2e_entity_linking_aidayago/pytorch_model.bin\n",
      "hf_e2e_entity_linking_aidayago/vocab.json\n",
      "hf_e2e_entity_linking_aidayago/merges.txt\n"
     ]
    }
   ],
   "source": [
    "!wget http://dl.fbaipublicfiles.com/GENRE/hf_e2e_entity_linking_aidayago.tar.gz\n",
    "!tar -zxvf hf_e2e_entity_linking_aidayago.tar.gz"
   ]
  },
  {
   "cell_type": "code",
   "execution_count": 21,
   "metadata": {
    "id": "P1khzB4ZzP63"
   },
   "outputs": [],
   "source": [
    "E2EEL_model_2 = GENRE.from_pretrained(\"hf_e2e_entity_linking_aidayago\").eval()"
   ]
  },
  {
   "cell_type": "code",
   "execution_count": 22,
   "metadata": {
    "colab": {
     "base_uri": "https://localhost:8080/"
    },
    "id": "BE1_1QH9zfK-",
    "outputId": "ae2d6f07-c5a4-443a-ab1f-8e0251e64183"
   },
   "outputs": [
    {
     "data": {
      "text/plain": [
       "[[{'logprob': tensor(-0.6685),\n",
       "   'text': 'In 1921, { Einstein } [ Albert Einstein ] received a { Nobel Prize } [ Nobel Prize ] in { America } [ United States ].'}],\n",
       " [{'logprob': tensor(-0.7592),\n",
       "   'text': 'In 1921, { Einstein } [ Albert Einstein ] received a { Nobel Prize } [ Nobel Prize in Physics ] in { America } [ United States ].'}],\n",
       " [{'logprob': tensor(-0.7706),\n",
       "   'text': 'In 1921, { Einstein } [ Albert Einstein ] received a { Nobel Prize } [ Nobel Prize in Physiology or Medicine ] in { America } [ United States ].'}],\n",
       " [{'logprob': tensor(-1.0445),\n",
       "   'text': 'In 1921, { Einstein } [ Albert Einstein ] received a { Nobel Prize } [ Nobel Prize in Physiology or Medicine ] in { America } [ United States in the 1921 Nobel Prize ].'}],\n",
       " [{'logprob': tensor(-1.1765),\n",
       "   'text': 'In 1921, { Einstein } [ Albert Einstein ] received a { Nobel Prize } [ Nobel Prize in Physiology or Medicine ] in { America } [ United States in the 1921 Nobel Prize Winners ].'}]]"
      ]
     },
     "execution_count": 22,
     "metadata": {
      "tags": []
     },
     "output_type": "execute_result"
    }
   ],
   "source": [
    "sentences = [\"In 1921, Einstein received a Nobel Prize in America.\"]\n",
    "\n",
    "prefix_allowed_tokens_fn = get_prefix_allowed_tokens_fn(E2EEL_model_2, sentences)\n",
    "\n",
    "E2EEL_model_2.sample(\n",
    "    sentences,\n",
    "    prefix_allowed_tokens_fn=prefix_allowed_tokens_fn,\n",
    ")\n",
    "# The result is slightly different from E2EEL_model_1"
   ]
  },
  {
   "cell_type": "code",
   "execution_count": 23,
   "metadata": {
    "colab": {
     "base_uri": "https://localhost:8080/"
    },
    "id": "oBwgC7lBs0jl",
    "outputId": "4093ca6c-2188-41a5-a453-0206c7ade91e"
   },
   "outputs": [
    {
     "data": {
      "text/plain": [
       "[[{'logprob': tensor(-1.8145),\n",
       "   'text': 'In 1921, Einstein received a { Nobel Prize } [ Nobel Prize in Physiology or Medicine ] in America.'}],\n",
       " [{'logprob': tensor(-1.9818),\n",
       "   'text': 'In 1921, Einstein received a { Nobel Prize } [ Nobel Prize in Physiology or Physiology ] in America.'}],\n",
       " [{'logprob': tensor(-2.0606),\n",
       "   'text': 'In 1921, Einstein received a { Nobel Prize } [ Nobel Prize in Physiology or Chemistry ] in America.'}],\n",
       " [{'logprob': tensor(-2.0755),\n",
       "   'text': 'In 1921, Einstein received a { Nobel Prize } [ Nobel Prize in Physiology or Physics ] in America.'}],\n",
       " [{'logprob': tensor(-2.1495),\n",
       "   'text': 'In 1921, Einstein received a { Nobel Prize } [ Nobel Prize in Physiology or Medicine in 1921 ] in America.'}]]"
      ]
     },
     "execution_count": 23,
     "metadata": {
      "tags": []
     },
     "output_type": "execute_result"
    }
   ],
   "source": [
    "# constrain the mentions with a prefix tree (no constrains on candidates)\n",
    "prefix_allowed_tokens_fn = get_prefix_allowed_tokens_fn(\n",
    "    E2EEL_model_2,\n",
    "    sentences,\n",
    "    mention_trie=Trie([\n",
    "        E2EEL_model_2.encode(e)[1:].tolist()\n",
    "        for e in [\" Nobel Prize\"]\n",
    "    ])\n",
    ")\n",
    "\n",
    "E2EEL_model_2.sample(\n",
    "    sentences,\n",
    "    prefix_allowed_tokens_fn=prefix_allowed_tokens_fn,\n",
    ")"
   ]
  },
  {
   "cell_type": "code",
   "execution_count": 24,
   "metadata": {
    "colab": {
     "base_uri": "https://localhost:8080/"
    },
    "id": "ycTyQy8WuDi0",
    "outputId": "c78dd499-c54e-49e9-94c1-5d33cc775e29"
   },
   "outputs": [
    {
     "data": {
      "text/plain": [
       "[[{'logprob': tensor(-1.1565),\n",
       "   'text': 'In 1921, { Einstein } [ Albert Einstein ] received a { Nobel Prize } [ Nobel Prize in Physics ] in { America } [ USA ].'}],\n",
       " [{'logprob': tensor(-1.3672),\n",
       "   'text': 'In 1921, { Einstein } [ Albert Einstein ] received a { Nobel Prize } [ Nobel Prize in Physics ] in { America. } [ USA ]'}],\n",
       " [{'logprob': tensor(-1.4649),\n",
       "   'text': 'In 1921, { Einstein } [ Albert Einstein ] received a { Nobel } [ Nobel Prize in Physics ] Prize in { America } [ USA ].'}],\n",
       " [{'logprob': tensor(-1.9403),\n",
       "   'text': 'In 1921, { Einstein } [ Albert Einstein ] received a { Nobel Prize } [ Nobel Prize in Physics ] in { America } [ USA ] {. } [ NIL ]'}],\n",
       " [{'logprob': tensor(-2.1789),\n",
       "   'text': 'In 1921, { Einstein } [ Albert Einstein ] received a { Nobel } [ Nobel Prize in Physics ] Prize in { America } [ USA ] {. } [ NIL ]'}]]"
      ]
     },
     "execution_count": 24,
     "metadata": {
      "tags": []
     },
     "output_type": "execute_result"
    }
   ],
   "source": [
    "# constrain the candidates with a prefix tree (no constrains on mentions)\n",
    "prefix_allowed_tokens_fn = get_prefix_allowed_tokens_fn(\n",
    "    E2EEL_model_2,\n",
    "    sentences,\n",
    "    candidates_trie=Trie([\n",
    "        E2EEL_model_2.encode(\" }} [ {} ]\".format(e))[1:].tolist()\n",
    "        for e in [\"Albert Einstein\", \"Nobel Prize in Physics\", \"USA\", \"NIL\"]\n",
    "    ])\n",
    ")\n",
    "\n",
    "E2EEL_model_2.sample(\n",
    "    sentences,\n",
    "    prefix_allowed_tokens_fn=prefix_allowed_tokens_fn,\n",
    ")"
   ]
  },
  {
   "cell_type": "code",
   "execution_count": 24,
   "metadata": {
    "id": "rwezEF336JDV"
   },
   "outputs": [],
   "source": []
  }
 ],
 "metadata": {
  "colab": {
   "collapsed_sections": [],
   "name": "genre.ipynb",
   "provenance": []
  },
  "kernelspec": {
   "display_name": "Python 3",
   "language": "python",
   "name": "python3"
  },
  "language_info": {
   "codemirror_mode": {
    "name": "ipython",
    "version": 3
   },
   "file_extension": ".py",
   "mimetype": "text/x-python",
   "name": "python",
   "nbconvert_exporter": "python",
   "pygments_lexer": "ipython3",
   "version": "3.7.7"
  }
 },
 "nbformat": 4,
 "nbformat_minor": 1
}
