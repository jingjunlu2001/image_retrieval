{
 "cells": [
  {
   "cell_type": "code",
   "execution_count": 1,
   "metadata": {
    "id": "LQx9qNJoKEj-"
   },
   "outputs": [
    {
     "name": "stdout",
     "output_type": "stream",
     "text": [
      "Requirement already satisfied: sentencepiece in c:\\anaconda\\envs\\tensorflow_env\\lib\\site-packages (0.1.95)\n"
     ]
    }
   ],
   "source": [
    "# !pip install transformers\n",
    "# !pip install sentencepiece\n",
    "from transformers import MBartForConditionalGeneration, MBart50TokenizerFast"
   ]
  },
  {
   "cell_type": "code",
   "execution_count": null,
   "metadata": {},
   "outputs": [],
   "source": [
    "# Load pretrained models\n",
    "model = MBartForConditionalGeneration.from_pretrained(\"facebook/mbart-large-50-many-to-many-mmt\")\n",
    "tokenizer = MBart50TokenizerFast.from_pretrained(\"facebook/mbart-large-50-many-to-many-mmt\")"
   ]
  },
  {
   "cell_type": "code",
   "execution_count": 9,
   "metadata": {
    "id": "0-pTolh2OrDg"
   },
   "outputs": [],
   "source": [
    "# Original sentence for translation\n",
    "article_en = \"Hello World\""
   ]
  },
  {
   "cell_type": "code",
   "execution_count": 10,
   "metadata": {
    "colab": {
     "base_uri": "https://localhost:8080/"
    },
    "id": "KvbSFs9EKEkD",
    "outputId": "e973da57-bf23-4af3-b545-aec9ac59d87d"
   },
   "outputs": [
    {
     "data": {
      "text/plain": [
       "['你好世界']"
      ]
     },
     "execution_count": 10,
     "metadata": {
      "tags": []
     },
     "output_type": "execute_result"
    }
   ],
   "source": [
    "# Languages for selection: ar_AR,cs_CZ,de_DE,en_XX,es_XX,et_EE,fi_FI,fr_XX,gu_IN,hi_IN,it_IT,ja_XX,kk_KZ,ko_KR,lt_LT,lv_LV,my_MM,ne_NP,nl_XX,ro_RO,ru_RU,si_LK,tr_TR,vi_VN,zh_CN\n",
    "source_language = \"en_XX\"\n",
    "target_language = \"zh_CN\"\n",
    "\n",
    "# Translate English to other languages\n",
    "tokenizer.src_lang = source_language\n",
    "encoded_en = tokenizer(article_en, return_tensors=\"pt\")\n",
    "generated_tokens = model.generate(**encoded_en, forced_bos_token_id=tokenizer.lang_code_to_id[target_language])\n",
    "target = tokenizer.batch_decode(generated_tokens, skip_special_tokens=True)\n",
    "target"
   ]
  }
 ],
 "metadata": {
  "colab": {
   "name": "mbart_translation.ipynb",
   "provenance": []
  },
  "kernelspec": {
   "display_name": "Python 3",
   "language": "python",
   "name": "python3"
  },
  "language_info": {
   "codemirror_mode": {
    "name": "ipython",
    "version": 3
   },
   "file_extension": ".py",
   "mimetype": "text/x-python",
   "name": "python",
   "nbconvert_exporter": "python",
   "pygments_lexer": "ipython3",
   "version": "3.7.7"
  }
 },
 "nbformat": 4,
 "nbformat_minor": 1
}
